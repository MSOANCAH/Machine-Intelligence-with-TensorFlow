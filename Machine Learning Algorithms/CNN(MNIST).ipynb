{
 "cells": [
  {
   "cell_type": "code",
   "execution_count": 1,
   "metadata": {
    "collapsed": false
   },
   "outputs": [],
   "source": [
    "import tensorflow as tf\n",
    "import numpy as np\n",
    "from tensorflow.examples.tutorials.mnist import input_data"
   ]
  },
  {
   "cell_type": "code",
   "execution_count": 2,
   "metadata": {
    "collapsed": false
   },
   "outputs": [
    {
     "name": "stdout",
     "output_type": "stream",
     "text": [
      "Extracting MNIST_data/train-images-idx3-ubyte.gz\n",
      "Extracting MNIST_data/train-labels-idx1-ubyte.gz\n",
      "Extracting MNIST_data/t10k-images-idx3-ubyte.gz\n",
      "Extracting MNIST_data/t10k-labels-idx1-ubyte.gz\n"
     ]
    }
   ],
   "source": [
    "mnist = input_data.read_data_sets(\"MNIST_data/\" , one_hot=True)"
   ]
  },
  {
   "cell_type": "code",
   "execution_count": 3,
   "metadata": {
    "collapsed": true
   },
   "outputs": [],
   "source": [
    "train_X , train_Y , test_X , test_Y = mnist.train.images, mnist.train.labels, mnist.test.images, mnist.test.labels"
   ]
  },
  {
   "cell_type": "code",
   "execution_count": 4,
   "metadata": {
    "collapsed": false
   },
   "outputs": [
    {
     "data": {
      "text/plain": [
       "(55000, 784)"
      ]
     },
     "execution_count": 4,
     "metadata": {},
     "output_type": "execute_result"
    }
   ],
   "source": [
    "train_X.shape"
   ]
  },
  {
   "cell_type": "code",
   "execution_count": 5,
   "metadata": {
    "collapsed": true
   },
   "outputs": [],
   "source": [
    "train_X = train_X.reshape(-1,28,28,1) #reshape as images\n",
    "test_X = test_X.reshape(-1,28,28,1)"
   ]
  },
  {
   "cell_type": "code",
   "execution_count": 6,
   "metadata": {
    "collapsed": false
   },
   "outputs": [],
   "source": [
    "X = tf.placeholder(\"float\",[None,28,28,1])\n",
    "Y = tf.placeholder(\"float\",[None,10])\n",
    "\n",
    "def init_weights(shape):\n",
    "    return tf.Variable(tf.random_normal(shape, stddev=0.01))\n",
    "\n",
    "W_C1 = init_weights([3,3,1,32])# 3x3x1 conv, 32 outputs\n",
    "W_C2 = init_weights([3,3,32,64])# 3x3x32 conv, 64 outputs\n",
    "W_C3 = init_weights([3, 3, 64, 128])# 3x3x64 conv, 128 outputs\n",
    "\n",
    "W_FC = init_weights([128 * 4 * 4, 625]) # FC 128 * 4 * 4 inputs, 625 outputs\n",
    "W_O = init_weights([625, 10])         # FC 625 inputs, 10 outputs (labels)\n",
    "\n",
    "p_keep_conv = tf.placeholder(\"float\") #for dropouts as percentage\n",
    "p_keep_hidden = tf.placeholder(\"float\") "
   ]
  },
  {
   "cell_type": "code",
   "execution_count": 7,
   "metadata": {
    "collapsed": true
   },
   "outputs": [],
   "source": [
    "def model(X, W_C1, W_C2, W_C3, W_FC, W_O, p_keep_conv,p_keep_hidden):\n",
    "    \n",
    "    C1 = tf.nn.relu(tf.nn.conv2d(X,W_C1,\n",
    "                                strides=[1,1,1,1], padding = \"SAME\")) # 1st convoultion layer shape=(?, 28, 28, 32)\n",
    "    \n",
    "    P1 = tf.nn.max_pool(C1,ksize=[1,2,2,1],\n",
    "                         strides=[1,2,2,1], padding = \"SAME\" ) # 1st pooling layer shape =(?,14,14,32)\n",
    "    \n",
    "    D1 = tf.nn.dropout(P1,p_keep_conv) # 1st dropout at conv\n",
    "    \n",
    "    C2 = tf.nn.relu(tf.nn.conv2d(D1,W_C2,\n",
    "                                strides=[1,1,1,1], padding = \"SAME\")) # 2nd convoultion layer shape=(?, 14, 14, 62)\n",
    "    \n",
    "    P2 = tf.nn.max_pool(C2,ksize=[1,2,2,1],\n",
    "                         strides=[1,2,2,1], padding = \"SAME\" ) # 2nd pooling layer shape =(?,7,7,64)\n",
    "    \n",
    "    D2 = tf.nn.dropout(P2,p_keep_conv) # 2nd dropout at conv\n",
    "    \n",
    "    \n",
    "    C3 = tf.nn.relu(tf.nn.conv2d(D2,W_C3,\n",
    "                                strides=[1,1,1,1], padding = \"SAME\")) # 3rd convoultion layer shape=(?, 7, 7, 128)\n",
    "    \n",
    "    P3 = tf.nn.max_pool(C3,ksize=[1,2,2,1],\n",
    "                         strides=[1,2,2,1], padding = \"SAME\" ) # 3rd pooling layer shape =(?,4,4,128)\n",
    "    \n",
    "    P3 = tf.reshape(P3, [-1, W_FC.get_shape().as_list()[0]])    # reshape to (?, 2048)\n",
    "    D3 = tf.nn.dropout(P3, p_keep_conv) # 3rd dropout at conv\n",
    "    \n",
    "    FC = tf.nn.relu(tf.matmul(D3,W_FC))\n",
    "    FC = tf.nn.dropout(FC, p_keep_hidden) #droput at fc\n",
    "    \n",
    "    output = tf.matmul(FC,W_O)\n",
    "    \n",
    "    return output    "
   ]
  },
  {
   "cell_type": "code",
   "execution_count": 8,
   "metadata": {
    "collapsed": true
   },
   "outputs": [],
   "source": [
    "Y_pred = model(X, W_C1, W_C2, W_C3, W_FC, W_O, p_keep_conv,p_keep_hidden)"
   ]
  },
  {
   "cell_type": "code",
   "execution_count": 9,
   "metadata": {
    "collapsed": true
   },
   "outputs": [],
   "source": [
    "cost = tf.reduce_mean(tf.nn.softmax_cross_entropy_with_logits(logits = Y_pred ,labels = Y))\n",
    " # compute mean cross entropy (softmax is applied internally)"
   ]
  },
  {
   "cell_type": "code",
   "execution_count": 10,
   "metadata": {
    "collapsed": true
   },
   "outputs": [],
   "source": [
    "optimizer = tf.train.RMSPropOptimizer(0.001, 0.9).minimize(cost)"
   ]
  },
  {
   "cell_type": "code",
   "execution_count": 11,
   "metadata": {
    "collapsed": true
   },
   "outputs": [],
   "source": [
    "predict_op = tf.argmax(Y_pred, 1) # at predict time, evaluate the argmax of the logistic regression"
   ]
  },
  {
   "cell_type": "code",
   "execution_count": null,
   "metadata": {
    "collapsed": false
   },
   "outputs": [
    {
     "name": "stdout",
     "output_type": "stream",
     "text": [
      "\n",
      "epoch : 0 and accuracy : 0.9529\n",
      "testing labels for test data\n",
      "[7 2 1 ..., 4 5 6]\n",
      "\n",
      "epoch : 10 and accuracy : 0.9926\n",
      "testing labels for test data\n",
      "[7 2 1 ..., 4 5 6]\n",
      "\n",
      "epoch : 20 and accuracy : 0.9919\n",
      "testing labels for test data\n",
      "[7 2 1 ..., 4 5 6]\n"
     ]
    }
   ],
   "source": [
    "epochs = 100\n",
    "\n",
    "with tf.Session() as sess:\n",
    "    # you need to initialize all variables\n",
    "    sess.run(tf.global_variables_initializer())\n",
    "    \n",
    "    for epoch in range(epochs):\n",
    "        \n",
    "        for start, end in zip(range(0, len(train_X), 128), range(128, len(train_X)+1, 128)): \n",
    "            sess.run(optimizer,feed_dict={X : train_X[start:end] , Y : train_Y[start:end],\n",
    "                                          p_keep_conv: 0.8, p_keep_hidden: 0.5})\n",
    "        \n",
    "        if epoch % 10 == 0:\n",
    "            print()\n",
    "            print(\"epoch : {} and accuracy : {}\" .format(epoch, np.mean(np.argmax(test_Y, axis=1) ==\n",
    "                         sess.run(predict_op, feed_dict={X: test_X, p_keep_conv: 1.0, p_keep_hidden: 1.0}))))\n",
    "            \n",
    "            print(\"testing labels for test data\")\n",
    "            print(sess.run(predict_op, feed_dict={X: test_X,p_keep_conv: 1.0, p_keep_hidden: 1.0}))"
   ]
  },
  {
   "cell_type": "code",
   "execution_count": null,
   "metadata": {
    "collapsed": true
   },
   "outputs": [],
   "source": []
  }
 ],
 "metadata": {
  "kernelspec": {
   "display_name": "Python 3",
   "language": "python",
   "name": "python3"
  },
  "language_info": {
   "codemirror_mode": {
    "name": "ipython",
    "version": 3
   },
   "file_extension": ".py",
   "mimetype": "text/x-python",
   "name": "python",
   "nbconvert_exporter": "python",
   "pygments_lexer": "ipython3",
   "version": "3.6.0"
  }
 },
 "nbformat": 4,
 "nbformat_minor": 2
}
