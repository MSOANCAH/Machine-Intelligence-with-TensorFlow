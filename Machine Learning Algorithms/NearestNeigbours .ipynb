{
 "cells": [
  {
   "cell_type": "code",
   "execution_count": 1,
   "metadata": {
    "collapsed": false
   },
   "outputs": [],
   "source": [
    "import tensorflow as tf\n",
    "import numpy as np\n",
    "\n",
    "from tensorflow.examples.tutorials.mnist import input_data"
   ]
  },
  {
   "cell_type": "code",
   "execution_count": 2,
   "metadata": {
    "collapsed": false
   },
   "outputs": [
    {
     "name": "stdout",
     "output_type": "stream",
     "text": [
      "Extracting MNIST_data/train-images-idx3-ubyte.gz\n",
      "Extracting MNIST_data/train-labels-idx1-ubyte.gz\n",
      "Extracting MNIST_data/t10k-images-idx3-ubyte.gz\n",
      "Extracting MNIST_data/t10k-labels-idx1-ubyte.gz\n"
     ]
    }
   ],
   "source": [
    "mnist = input_data.read_data_sets('MNIST_data/',one_hot=True)"
   ]
  },
  {
   "cell_type": "code",
   "execution_count": 3,
   "metadata": {
    "collapsed": true
   },
   "outputs": [],
   "source": [
    "train_X , train_Y = mnist.train.next_batch(5000)\n",
    "test_X , test_Y = mnist.test.next_batch(200)"
   ]
  },
  {
   "cell_type": "code",
   "execution_count": 4,
   "metadata": {
    "collapsed": true
   },
   "outputs": [],
   "source": [
    "X = tf.placeholder(\"float\",[None,784])\n",
    "Y = tf.placeholder(\"float\",[784])\n",
    "\n",
    "\n",
    "# Nearest Neighbor calculation using L1 Distance\n",
    "# Calculate L1 Distance\n",
    "distance = tf.reduce_sum(tf.abs(tf.add(X,tf.negative(Y))),reduction_indices=1)\n",
    "# Prediction: Get min distance index (Nearest neighbor)\n",
    "predict_op = tf.arg_min(distance,0)\n"
   ]
  },
  {
   "cell_type": "code",
   "execution_count": 5,
   "metadata": {
    "collapsed": false
   },
   "outputs": [
    {
     "name": "stdout",
     "output_type": "stream",
     "text": [
      "Test 0 Prediction: 2 True Class: 2\n",
      "Test 20 Prediction: 9 True Class: 9\n",
      "Test 40 Prediction: 5 True Class: 5\n",
      "Test 60 Prediction: 8 True Class: 8\n",
      "Test 80 Prediction: 4 True Class: 4\n",
      "Test 100 Prediction: 6 True Class: 6\n",
      "Test 120 Prediction: 3 True Class: 3\n",
      "Test 140 Prediction: 7 True Class: 7\n",
      "Test 160 Prediction: 8 True Class: 8\n",
      "Test 180 Prediction: 5 True Class: 5\n",
      "Done!\n",
      "Accuracy: 0.9350000000000007\n"
     ]
    }
   ],
   "source": [
    "accuracy = 0\n",
    "with tf.Session() as sess:\n",
    "    \n",
    "    sess.run(tf.global_variables_initializer())\n",
    "    # loop over test data\n",
    "    for i in range(len(test_X)):\n",
    "        \n",
    "         # Get nearest neighbor\n",
    "        nn_index = sess.run(predict_op,feed_dict = {X:train_X,Y:test_X[i,:]}) \n",
    "        if i % 20 == 0:\n",
    "            # Get nearest neighbor class label and compare it to its true label\n",
    "            print( \"Test\", i, \"Prediction:\", np.argmax(train_Y[nn_index]), \"True Class:\", np.argmax(test_Y[i]))\n",
    "            # Calculate accuracy\n",
    "        if np.argmax(train_Y[nn_index]) == np.argmax(test_Y[i]):\n",
    "            accuracy += 1./len(test_X)\n",
    "                \n",
    "    print (\"Done!\")\n",
    "    print (\"Accuracy:\", accuracy)"
   ]
  },
  {
   "cell_type": "code",
   "execution_count": null,
   "metadata": {
    "collapsed": true
   },
   "outputs": [],
   "source": []
  }
 ],
 "metadata": {
  "kernelspec": {
   "display_name": "Python 3",
   "language": "python",
   "name": "python3"
  },
  "language_info": {
   "codemirror_mode": {
    "name": "ipython",
    "version": 3
   },
   "file_extension": ".py",
   "mimetype": "text/x-python",
   "name": "python",
   "nbconvert_exporter": "python",
   "pygments_lexer": "ipython3",
   "version": "3.6.0"
  }
 },
 "nbformat": 4,
 "nbformat_minor": 2
}
