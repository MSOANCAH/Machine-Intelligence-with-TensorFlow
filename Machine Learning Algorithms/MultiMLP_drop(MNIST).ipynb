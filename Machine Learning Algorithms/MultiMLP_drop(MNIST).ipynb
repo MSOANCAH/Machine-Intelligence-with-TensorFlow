{
 "cells": [
  {
   "cell_type": "code",
   "execution_count": 1,
   "metadata": {
    "collapsed": true
   },
   "outputs": [],
   "source": [
    "import tensorflow as tf\n",
    "import numpy as np\n",
    "from tensorflow.examples.tutorials.mnist import input_data"
   ]
  },
  {
   "cell_type": "code",
   "execution_count": 2,
   "metadata": {
    "collapsed": false
   },
   "outputs": [
    {
     "name": "stdout",
     "output_type": "stream",
     "text": [
      "Extracting MNIST_data/train-images-idx3-ubyte.gz\n",
      "Extracting MNIST_data/train-labels-idx1-ubyte.gz\n",
      "Extracting MNIST_data/t10k-images-idx3-ubyte.gz\n",
      "Extracting MNIST_data/t10k-labels-idx1-ubyte.gz\n"
     ]
    }
   ],
   "source": [
    "mnist=input_data.read_data_sets(\"MNIST_data/\",one_hot=True)"
   ]
  },
  {
   "cell_type": "code",
   "execution_count": 3,
   "metadata": {
    "collapsed": false
   },
   "outputs": [],
   "source": [
    "# train test images \n",
    "train_X = mnist.train.images\n",
    "train_Y = mnist.train.labels\n",
    "test_X = mnist.test.images\n",
    "test_Y = mnist.test.labels"
   ]
  },
  {
   "cell_type": "code",
   "execution_count": 4,
   "metadata": {
    "collapsed": false
   },
   "outputs": [
    {
     "data": {
      "text/plain": [
       "55000"
      ]
     },
     "execution_count": 4,
     "metadata": {},
     "output_type": "execute_result"
    }
   ],
   "source": [
    "len(train_X)"
   ]
  },
  {
   "cell_type": "code",
   "execution_count": 5,
   "metadata": {
    "collapsed": false
   },
   "outputs": [
    {
     "data": {
      "text/plain": [
       "10000"
      ]
     },
     "execution_count": 5,
     "metadata": {},
     "output_type": "execute_result"
    }
   ],
   "source": [
    "len(test_X)"
   ]
  },
  {
   "cell_type": "code",
   "execution_count": 6,
   "metadata": {
    "collapsed": false
   },
   "outputs": [
    {
     "data": {
      "text/plain": [
       "numpy.ndarray"
      ]
     },
     "execution_count": 6,
     "metadata": {},
     "output_type": "execute_result"
    }
   ],
   "source": [
    "type(train_X) #numpy array of all numpy array "
   ]
  },
  {
   "cell_type": "code",
   "execution_count": 7,
   "metadata": {
    "collapsed": false
   },
   "outputs": [
    {
     "data": {
      "text/plain": [
       "(55000, 784)"
      ]
     },
     "execution_count": 7,
     "metadata": {},
     "output_type": "execute_result"
    }
   ],
   "source": [
    "train_X.shape  #55000 images and 784 pixels "
   ]
  },
  {
   "cell_type": "code",
   "execution_count": 8,
   "metadata": {
    "collapsed": false
   },
   "outputs": [
    {
     "data": {
      "text/plain": [
       "(784,)"
      ]
     },
     "execution_count": 8,
     "metadata": {},
     "output_type": "execute_result"
    }
   ],
   "source": [
    "train_X[0].shape  # 784 size of all images"
   ]
  },
  {
   "cell_type": "code",
   "execution_count": 9,
   "metadata": {
    "collapsed": false
   },
   "outputs": [],
   "source": [
    "X = tf.placeholder(\"float\", [None,784])# 784 featuress\n",
    "Y = tf.placeholder(\"float\", [None,10]) # 10 classes\n",
    "\n",
    "W_H1 = tf.Variable(tf.random_normal([784,625], stddev=0.01)) #Hidden layer weights\n",
    "W_H2 = tf.Variable(tf.random_normal([625,625],stddev = 0.01))\n",
    "W_O = tf.Variable(tf.random_normal([625,10], stddev=0.01))  # output layer weights\n",
    "\n",
    "\n",
    "def model(X, W_H1, W_H2, W_O, p_keep_input, p_keep_hidden): # this network is the same as the previous one \n",
    "                                                           #except with an extra hidden layer + dropout\n",
    "        X = tf.nn.dropout(X, p_keep_input)\n",
    "        h1 = tf.nn.relu(tf.matmul(X, W_H1))\n",
    "        h1 = tf.nn.dropout(h1, p_keep_hidden)\n",
    "        h2 = tf.nn.relu(tf.matmul(h1,W_H2))\n",
    "        h2 = tf.nn.dropout(h2, p_keep_hidden)\n",
    "        return tf.matmul(h2,W_O)\n"
   ]
  },
  {
   "cell_type": "code",
   "execution_count": 10,
   "metadata": {
    "collapsed": false
   },
   "outputs": [],
   "source": [
    "p_keep_input = tf.placeholder(\"float\")\n",
    "p_keep_hidden = tf.placeholder(\"float\")\n",
    "Y_pred = model(X, W_H1, W_H2, W_O, p_keep_input, p_keep_hidden)"
   ]
  },
  {
   "cell_type": "code",
   "execution_count": 11,
   "metadata": {
    "collapsed": false
   },
   "outputs": [],
   "source": [
    "#cost function\n",
    "cost = tf.reduce_mean(tf.nn.softmax_cross_entropy_with_logits(logits=Y_pred, labels=Y))\n",
    " # compute mean cross entropy (softmax is applied internally)"
   ]
  },
  {
   "cell_type": "code",
   "execution_count": 12,
   "metadata": {
    "collapsed": true
   },
   "outputs": [],
   "source": [
    "optimizer=tf.train.GradientDescentOptimizer(0.05).minimize(cost)"
   ]
  },
  {
   "cell_type": "code",
   "execution_count": 13,
   "metadata": {
    "collapsed": true
   },
   "outputs": [],
   "source": [
    "predict_op = tf.argmax(Y_pred, 1) # at predict time, evaluate the argmax of the logistic regression"
   ]
  },
  {
   "cell_type": "code",
   "execution_count": null,
   "metadata": {
    "collapsed": false
   },
   "outputs": [
    {
     "name": "stdout",
     "output_type": "stream",
     "text": [
      "\n",
      "epoch : 0 and accuracy : 0.7493\n",
      "testing labels for test data\n",
      "[7 2 1 ..., 9 8 6]\n",
      "\n",
      "epoch : 10 and accuracy : 0.9652\n",
      "testing labels for test data\n",
      "[7 2 1 ..., 4 5 6]\n",
      "\n",
      "epoch : 20 and accuracy : 0.9773\n",
      "testing labels for test data\n",
      "[7 2 1 ..., 4 5 6]\n",
      "\n",
      "epoch : 30 and accuracy : 0.9814\n",
      "testing labels for test data\n",
      "[7 2 1 ..., 4 5 6]\n",
      "\n",
      "epoch : 40 and accuracy : 0.9829\n",
      "testing labels for test data\n",
      "[7 2 1 ..., 4 5 6]\n",
      "\n",
      "epoch : 50 and accuracy : 0.9834\n",
      "testing labels for test data\n",
      "[7 2 1 ..., 4 5 6]\n",
      "\n",
      "epoch : 60 and accuracy : 0.9844\n",
      "testing labels for test data\n",
      "[7 2 1 ..., 4 5 6]\n",
      "\n",
      "epoch : 70 and accuracy : 0.985\n",
      "testing labels for test data\n",
      "[7 2 1 ..., 4 5 6]\n",
      "\n",
      "epoch : 80 and accuracy : 0.9851\n",
      "testing labels for test data\n",
      "[7 2 1 ..., 4 5 6]\n",
      "\n",
      "epoch : 90 and accuracy : 0.9856\n",
      "testing labels for test data\n",
      "[7 2 1 ..., 4 5 6]\n"
     ]
    }
   ],
   "source": [
    "epochs = 100\n",
    "\n",
    "with tf.Session() as sess:\n",
    "    # you need to initialize all variables\n",
    "    sess.run(tf.global_variables_initializer())\n",
    "    \n",
    "    for epoch in range(epochs):\n",
    "        \n",
    "        for start, end in zip(range(0, len(train_X), 128), range(128, len(train_X)+1, 128)): \n",
    "            sess.run(optimizer,feed_dict={X : train_X[start:end] , Y : train_Y[start:end],\n",
    "                                          p_keep_input: 0.8, p_keep_hidden: 0.5})\n",
    "        \n",
    "        if epoch % 10 == 0:\n",
    "            print()\n",
    "            print(\"epoch : {} and accuracy : {}\" .format(epoch, np.mean(np.argmax(test_Y, axis=1) ==\n",
    "                         sess.run(predict_op, feed_dict={X: test_X, p_keep_input: 1.0, p_keep_hidden: 1.0}))))\n",
    "            \n",
    "            print(\"testing labels for test data\")\n",
    "            print(sess.run(predict_op, feed_dict={X: test_X,p_keep_input: 1.0, p_keep_hidden: 1.0}))"
   ]
  },
  {
   "cell_type": "code",
   "execution_count": null,
   "metadata": {
    "collapsed": false
   },
   "outputs": [],
   "source": []
  },
  {
   "cell_type": "code",
   "execution_count": null,
   "metadata": {
    "collapsed": true
   },
   "outputs": [],
   "source": []
  }
 ],
 "metadata": {
  "kernelspec": {
   "display_name": "Python 3",
   "language": "python",
   "name": "python3"
  },
  "language_info": {
   "codemirror_mode": {
    "name": "ipython",
    "version": 3
   },
   "file_extension": ".py",
   "mimetype": "text/x-python",
   "name": "python",
   "nbconvert_exporter": "python",
   "pygments_lexer": "ipython3",
   "version": "3.6.0"
  }
 },
 "nbformat": 4,
 "nbformat_minor": 2
}
